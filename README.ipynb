{
 "cells": [
  {
   "cell_type": "markdown",
   "id": "d9b33c42",
   "metadata": {},
   "source": [
    "#### Personal Project By: Kayla Brock | Codeup | Jemison Cohort | June 30, 2022"
   ]
  },
  {
   "cell_type": "markdown",
   "id": "d582d704",
   "metadata": {},
   "source": [
    "### \"_You don't build a business, you build people, and then people build the business_\" -Zig Ziglar"
   ]
  },
  {
   "cell_type": "markdown",
   "id": "2811f41d",
   "metadata": {},
   "source": [
    "#### A project using classification to predict attrition at a company. "
   ]
  },
  {
   "cell_type": "markdown",
   "id": "227f8a1a",
   "metadata": {},
   "source": [
    "<hr style=\"border-top: 1px groove LightCyan ; margin-top: 1px; margin-bottom: 1px\"></hr>"
   ]
  },
  {
   "cell_type": "markdown",
   "id": "764d05cc",
   "metadata": {},
   "source": [
    "# I. Project Overview & EXECUTIVE SUMMARY"
   ]
  },
  {
   "cell_type": "markdown",
   "id": "0f92786d",
   "metadata": {},
   "source": [
    "#### _Project Goal_ "
   ]
  },
  {
   "cell_type": "markdown",
   "id": "4bbf573f",
   "metadata": {},
   "source": [
    "The goal of this report is to identify drivers of employee attrition so that supports can be put in place to reduce employee attrition. "
   ]
  },
  {
   "cell_type": "markdown",
   "id": "56588d64",
   "metadata": {},
   "source": [
    "#### _Description_"
   ]
  },
  {
   "cell_type": "markdown",
   "id": "9dc789de",
   "metadata": {},
   "source": [
    "_\"According to a 2021 study by the Bureau of Labor Statistics, the average annual turnover rate is 57 percent across all industries, which accounts for both voluntary and involuntary turnover. The actual rate of turnover varies greatly by industry, however. Tech companies are at serious risk with an average turnover rate of 20.9 percent, the fourth highest overall behind retail, manufacturing and consumer goods, according to a 2019 study.\"_"
   ]
  },
  {
   "cell_type": "markdown",
   "id": "04ba287a",
   "metadata": {},
   "source": [
    "                                                            - Kate Heinz\n",
    "                                                            - https://builtin.com/recruiting/cost-of-turnover\n",
    "                                                           "
   ]
  },
  {
   "cell_type": "markdown",
   "id": "5649a416",
   "metadata": {},
   "source": [
    "This project aims to uncover the main factors that lead to employee attrition. If the attrition factor is something that can be controlled for, a recommendation will be made. "
   ]
  },
  {
   "cell_type": "markdown",
   "id": "e35756e6",
   "metadata": {},
   "source": [
    "I am interested in this project because I believe employee retention is a key component of building a successful business. I feel fortunate to live in a time where this type of scientific research is even possible! In the last decade new businesses' have emerged that offer their employees excellent salaries, benefits, stock-options, and working conditions. Many of these businesses, that forewent the traditional approach of paying the CEO six figures, (and the workers 'as little as possible'), have grown into very successful companies. While this dataset is a ficticious dataset created by IBM data scientists, I believe it was carefully designed to be a good representation of actual factors of attrition(I am hoping it is loosely 'based on' their internal data). I also believe IBM is an excellent company with excellent benefits. I believe I will see, within the many features, how their benefit's package supports employee retention. Through this evidence, I hope more companies will be encouraged to invest more in their own people; knowing that what is supportive of the people is supportive of the success of the organization."
   ]
  },
  {
   "cell_type": "markdown",
   "id": "c8e251b3",
   "metadata": {},
   "source": [
    "#### _Initial Thoughts & Hypotheses_"
   ]
  },
  {
   "cell_type": "markdown",
   "id": "deb07c5d",
   "metadata": {},
   "source": [
    "I believe employees who report a low satisfaction with their environment are more likely to quit. I believe people who are paid less are more likely to quit. I believe entry-level employees are more likely to quit. I believe certain job roles have a higher attrition rate than other job roles. I believe employees with stock options are less likely to quit. I believe employees are more likely to quit if they have only been with the company a short period of time.  "
   ]
  },
  {
   "cell_type": "markdown",
   "id": "bde4afd6",
   "metadata": {},
   "source": [
    "#### _Initial Questions_"
   ]
  },
  {
   "cell_type": "markdown",
   "id": "f8eb537a",
   "metadata": {},
   "source": [
    "- Is there a relationship between environment satisfaction and attrition?\n",
    "- Is there a relationship between hourly rate and attrition? \n",
    "- Is there a relationship between Job Level and attrition? \n",
    "- Is there a relationship between Job Role and attrition? \n",
    "- Is there a relationship between stock options and attrition?\n",
    "- Is there a relationship between years with company and attrition?"
   ]
  },
  {
   "cell_type": "markdown",
   "id": "0c0b5a64",
   "metadata": {},
   "source": [
    "#### _Key Findings_"
   ]
  },
  {
   "cell_type": "markdown",
   "id": "36ae6e90",
   "metadata": {},
   "source": [
    "The goal of this report was to identify drivers of attrition so that supports could be put in place to lower attrition. Through data exploration and testing I have concluded that employees in the following categories are at a higher risk of leaving the company: \n",
    "\n",
    "- Job Level One Sales Representatives (42% of employees in this category ended up leaving the company)\n",
    "- Job Level One Human Resources Employees (30% of employees in this category ended up leaving the company)\n",
    "- Job Level One Laboratory Technicians (28% of employees in this category ended up leaving the company)\n",
    "- It should also be noted that Environment Satisfaction was found to have a relationship with attrition and 28% of Research Directors reported a '1' (the lowest possible score) for 'Environment Satisfaction'\n",
    "\n",
    "Three classification models were created to predict attrition: decision tree, random forest, and logistic regression. Logistic Regression, with a c-statistic of 50, was ultimately the best model. The train accuracy was 89, validate 87, and finally tested at an accuracy score of 88%. This score beat baseline by four percent. \n",
    "\n",
    "\n",
    "I recommend further investigation be done to identify the root cause of the research directors' environment dissatisfaction. (28% of Research Directors selected a 1 on a scale of 1 to 4 under the survey category 'Environment Satisfaction').I also recommend further investigation be conducted on level one sales representatives, level one human resources employees, and level one laboratory technicians. \n",
    "\n",
    "            "
   ]
  },
  {
   "cell_type": "markdown",
   "id": "4e37ea68",
   "metadata": {},
   "source": [
    "#### _Deliverables_"
   ]
  },
  {
   "cell_type": "markdown",
   "id": "be3d516b",
   "metadata": {},
   "source": [
    "* README file - overview of project as well as steps to reproduce \n",
    "* Scratch Jupyter Notebook - Jupyter Notebook with ideas/exploration \n",
    "* prepare.py - contains code to prepare and split the data \n",
    "* visuals.py - contains code for visuals \n",
    "* Final Report Jupyter Notebook - contains final presentation"
   ]
  },
  {
   "cell_type": "markdown",
   "id": "2580f83c",
   "metadata": {},
   "source": [
    "# II. Project Data"
   ]
  },
  {
   "cell_type": "markdown",
   "id": "8fe5cff3",
   "metadata": {},
   "source": [
    "<hr style=\"border-top: 1px groove LightCyan ; margin-top: 1px; margin-bottom: 1px\"></hr>"
   ]
  },
  {
   "cell_type": "markdown",
   "id": "42f73a05",
   "metadata": {},
   "source": [
    "#### _Data Dictionary_"
   ]
  },
  {
   "cell_type": "markdown",
   "id": "48e3a559",
   "metadata": {},
   "source": [
    "The final DataFrame used to explore the data for this project contains the following variables (columns). The variables, along with their data types, are defined below: "
   ]
  },
  {
   "cell_type": "code",
   "execution_count": 5,
   "id": "70f0ad9b",
   "metadata": {},
   "outputs": [],
   "source": [
    "from collections import OrderedDict\n",
    "import pandas as pd\n",
    "features = OrderedDict([ ('feature', ['Age', 'Attrition', 'BusinessTravel', 'DailyRate', 'Department',\n",
    "       'DistanceFromHome', 'Education', 'EducationField', 'EmployeeCount',\n",
    "       'EmployeeNumber', 'EnvironmentSatisfaction', 'Gender', 'HourlyRate',\n",
    "       'JobInvolvement', 'JobLevel', 'JobRole', 'JobSatisfaction',\n",
    "       'MaritalStatus', 'MonthlyIncome', 'MonthlyRate', 'NumCompaniesWorked',\n",
    "       'Over18', 'OverTime', 'PercentSalaryHike', 'PerformanceRating',\n",
    "       'RelationshipSatisfaction', 'StandardHours', 'StockOptionLevel',\n",
    "       'TotalWorkingYears', 'TrainingTimesLastYear', 'WorkLifeBalance',\n",
    "       'YearsAtCompany', 'YearsInCurrentRole', 'YearsSinceLastPromotion',\n",
    "       'YearsWithCurrManager']), ('datatype', ['integer', 'object', 'object', 'integer', 'object',\n",
    "                                               'integer', 'integer', 'object', 'integer', 'integer', \n",
    "                                               'integer', 'object', 'integer', 'integer', 'integer', 'object',\n",
    "                                               'integer', 'object', 'integer', 'integer', 'integer', 'object', \n",
    "                                               'object','integer', 'integer','integer', 'integer','integer', \n",
    "                                               'integer','integer', 'integer','integer', 'integer','integer', 'integer'])])                           \n",
    "\n",
    "df = pd.DataFrame.from_dict(features)"
   ]
  },
  {
   "cell_type": "code",
   "execution_count": 6,
   "id": "cf834acc",
   "metadata": {},
   "outputs": [
    {
     "data": {
      "text/html": [
       "<div>\n",
       "<style scoped>\n",
       "    .dataframe tbody tr th:only-of-type {\n",
       "        vertical-align: middle;\n",
       "    }\n",
       "\n",
       "    .dataframe tbody tr th {\n",
       "        vertical-align: top;\n",
       "    }\n",
       "\n",
       "    .dataframe thead th {\n",
       "        text-align: right;\n",
       "    }\n",
       "</style>\n",
       "<table border=\"1\" class=\"dataframe\">\n",
       "  <thead>\n",
       "    <tr style=\"text-align: right;\">\n",
       "      <th></th>\n",
       "      <th>feature</th>\n",
       "      <th>datatype</th>\n",
       "    </tr>\n",
       "  </thead>\n",
       "  <tbody>\n",
       "    <tr>\n",
       "      <th>0</th>\n",
       "      <td>Age</td>\n",
       "      <td>integer</td>\n",
       "    </tr>\n",
       "    <tr>\n",
       "      <th>1</th>\n",
       "      <td>Attrition</td>\n",
       "      <td>object</td>\n",
       "    </tr>\n",
       "    <tr>\n",
       "      <th>2</th>\n",
       "      <td>BusinessTravel</td>\n",
       "      <td>object</td>\n",
       "    </tr>\n",
       "    <tr>\n",
       "      <th>3</th>\n",
       "      <td>DailyRate</td>\n",
       "      <td>integer</td>\n",
       "    </tr>\n",
       "    <tr>\n",
       "      <th>4</th>\n",
       "      <td>Department</td>\n",
       "      <td>object</td>\n",
       "    </tr>\n",
       "    <tr>\n",
       "      <th>5</th>\n",
       "      <td>DistanceFromHome</td>\n",
       "      <td>integer</td>\n",
       "    </tr>\n",
       "    <tr>\n",
       "      <th>6</th>\n",
       "      <td>Education</td>\n",
       "      <td>integer</td>\n",
       "    </tr>\n",
       "    <tr>\n",
       "      <th>7</th>\n",
       "      <td>EducationField</td>\n",
       "      <td>object</td>\n",
       "    </tr>\n",
       "    <tr>\n",
       "      <th>8</th>\n",
       "      <td>EmployeeCount</td>\n",
       "      <td>integer</td>\n",
       "    </tr>\n",
       "    <tr>\n",
       "      <th>9</th>\n",
       "      <td>EmployeeNumber</td>\n",
       "      <td>integer</td>\n",
       "    </tr>\n",
       "    <tr>\n",
       "      <th>10</th>\n",
       "      <td>EnvironmentSatisfaction</td>\n",
       "      <td>integer</td>\n",
       "    </tr>\n",
       "    <tr>\n",
       "      <th>11</th>\n",
       "      <td>Gender</td>\n",
       "      <td>object</td>\n",
       "    </tr>\n",
       "    <tr>\n",
       "      <th>12</th>\n",
       "      <td>HourlyRate</td>\n",
       "      <td>integer</td>\n",
       "    </tr>\n",
       "    <tr>\n",
       "      <th>13</th>\n",
       "      <td>JobInvolvement</td>\n",
       "      <td>integer</td>\n",
       "    </tr>\n",
       "    <tr>\n",
       "      <th>14</th>\n",
       "      <td>JobLevel</td>\n",
       "      <td>integer</td>\n",
       "    </tr>\n",
       "    <tr>\n",
       "      <th>15</th>\n",
       "      <td>JobRole</td>\n",
       "      <td>object</td>\n",
       "    </tr>\n",
       "    <tr>\n",
       "      <th>16</th>\n",
       "      <td>JobSatisfaction</td>\n",
       "      <td>integer</td>\n",
       "    </tr>\n",
       "    <tr>\n",
       "      <th>17</th>\n",
       "      <td>MaritalStatus</td>\n",
       "      <td>object</td>\n",
       "    </tr>\n",
       "    <tr>\n",
       "      <th>18</th>\n",
       "      <td>MonthlyIncome</td>\n",
       "      <td>integer</td>\n",
       "    </tr>\n",
       "    <tr>\n",
       "      <th>19</th>\n",
       "      <td>MonthlyRate</td>\n",
       "      <td>integer</td>\n",
       "    </tr>\n",
       "    <tr>\n",
       "      <th>20</th>\n",
       "      <td>NumCompaniesWorked</td>\n",
       "      <td>integer</td>\n",
       "    </tr>\n",
       "    <tr>\n",
       "      <th>21</th>\n",
       "      <td>Over18</td>\n",
       "      <td>object</td>\n",
       "    </tr>\n",
       "    <tr>\n",
       "      <th>22</th>\n",
       "      <td>OverTime</td>\n",
       "      <td>object</td>\n",
       "    </tr>\n",
       "    <tr>\n",
       "      <th>23</th>\n",
       "      <td>PercentSalaryHike</td>\n",
       "      <td>integer</td>\n",
       "    </tr>\n",
       "    <tr>\n",
       "      <th>24</th>\n",
       "      <td>PerformanceRating</td>\n",
       "      <td>integer</td>\n",
       "    </tr>\n",
       "    <tr>\n",
       "      <th>25</th>\n",
       "      <td>RelationshipSatisfaction</td>\n",
       "      <td>integer</td>\n",
       "    </tr>\n",
       "    <tr>\n",
       "      <th>26</th>\n",
       "      <td>StandardHours</td>\n",
       "      <td>integer</td>\n",
       "    </tr>\n",
       "    <tr>\n",
       "      <th>27</th>\n",
       "      <td>StockOptionLevel</td>\n",
       "      <td>integer</td>\n",
       "    </tr>\n",
       "    <tr>\n",
       "      <th>28</th>\n",
       "      <td>TotalWorkingYears</td>\n",
       "      <td>integer</td>\n",
       "    </tr>\n",
       "    <tr>\n",
       "      <th>29</th>\n",
       "      <td>TrainingTimesLastYear</td>\n",
       "      <td>integer</td>\n",
       "    </tr>\n",
       "    <tr>\n",
       "      <th>30</th>\n",
       "      <td>WorkLifeBalance</td>\n",
       "      <td>integer</td>\n",
       "    </tr>\n",
       "    <tr>\n",
       "      <th>31</th>\n",
       "      <td>YearsAtCompany</td>\n",
       "      <td>integer</td>\n",
       "    </tr>\n",
       "    <tr>\n",
       "      <th>32</th>\n",
       "      <td>YearsInCurrentRole</td>\n",
       "      <td>integer</td>\n",
       "    </tr>\n",
       "    <tr>\n",
       "      <th>33</th>\n",
       "      <td>YearsSinceLastPromotion</td>\n",
       "      <td>integer</td>\n",
       "    </tr>\n",
       "    <tr>\n",
       "      <th>34</th>\n",
       "      <td>YearsWithCurrManager</td>\n",
       "      <td>integer</td>\n",
       "    </tr>\n",
       "  </tbody>\n",
       "</table>\n",
       "</div>"
      ],
      "text/plain": [
       "                     feature datatype\n",
       "0                        Age  integer\n",
       "1                  Attrition   object\n",
       "2             BusinessTravel   object\n",
       "3                  DailyRate  integer\n",
       "4                 Department   object\n",
       "5           DistanceFromHome  integer\n",
       "6                  Education  integer\n",
       "7             EducationField   object\n",
       "8              EmployeeCount  integer\n",
       "9             EmployeeNumber  integer\n",
       "10   EnvironmentSatisfaction  integer\n",
       "11                    Gender   object\n",
       "12                HourlyRate  integer\n",
       "13            JobInvolvement  integer\n",
       "14                  JobLevel  integer\n",
       "15                   JobRole   object\n",
       "16           JobSatisfaction  integer\n",
       "17             MaritalStatus   object\n",
       "18             MonthlyIncome  integer\n",
       "19               MonthlyRate  integer\n",
       "20        NumCompaniesWorked  integer\n",
       "21                    Over18   object\n",
       "22                  OverTime   object\n",
       "23         PercentSalaryHike  integer\n",
       "24         PerformanceRating  integer\n",
       "25  RelationshipSatisfaction  integer\n",
       "26             StandardHours  integer\n",
       "27          StockOptionLevel  integer\n",
       "28         TotalWorkingYears  integer\n",
       "29     TrainingTimesLastYear  integer\n",
       "30           WorkLifeBalance  integer\n",
       "31            YearsAtCompany  integer\n",
       "32        YearsInCurrentRole  integer\n",
       "33   YearsSinceLastPromotion  integer\n",
       "34      YearsWithCurrManager  integer"
      ]
     },
     "execution_count": 6,
     "metadata": {},
     "output_type": "execute_result"
    }
   ],
   "source": [
    "df"
   ]
  },
  {
   "cell_type": "markdown",
   "id": "f28f8d04",
   "metadata": {},
   "source": [
    "# III. Project PLAN "
   ]
  },
  {
   "cell_type": "markdown",
   "id": "b45fc820",
   "metadata": {},
   "source": [
    "<hr style=\"border-top: 1px groove LightCyan ; margin-top: 1px; margin-bottom: 1px\"></hr>"
   ]
  },
  {
   "cell_type": "markdown",
   "id": "fcda5156",
   "metadata": {},
   "source": [
    "#### The following outlines the process taken through the data science pipeline to complete this project"
   ]
  },
  {
   "cell_type": "markdown",
   "id": "076280e0",
   "metadata": {},
   "source": [
    "#### _Plan_"
   ]
  },
  {
   "cell_type": "markdown",
   "id": "e79fef46",
   "metadata": {},
   "source": [
    "In the planning stage I: read project expectations, created a project outline, wrote a project goal to include how I would measure success or failure, reviewed the overview of the dataset, documented all initial thoughts, questions, and hypotheses, created a plan for completing the project, created a data dictionary to define features, created local folder and github repository."
   ]
  },
  {
   "cell_type": "markdown",
   "id": "6d7875ab",
   "metadata": {},
   "source": [
    "#### _Acquire_"
   ]
  },
  {
   "cell_type": "markdown",
   "id": "9ff8bf37",
   "metadata": {},
   "source": [
    "In the acquire stage I: created a .gitignore, obtained HR data from Kaggle and saved it in my local folder. "
   ]
  },
  {
   "cell_type": "markdown",
   "id": "558ad97f",
   "metadata": {},
   "source": [
    "#### _Prepare_"
   ]
  },
  {
   "cell_type": "markdown",
   "id": "3e102de4",
   "metadata": {},
   "source": [
    "In the Prepare stage I: reviewed the dataset to see if there were any missing values(no null values), changed two categorical features(Attrition and OverTime) to  numbers('Yes' became 1, 'No' became 0), dropped columns that were not useful for data analysis (EmployeeCount, StandardHours, Over18, and EmployeeNumber), split data into train, validate, test, created prepare.py file with function to prepare data.  "
   ]
  },
  {
   "cell_type": "markdown",
   "id": "8b339436",
   "metadata": {},
   "source": [
    "#### _Explore_"
   ]
  },
  {
   "cell_type": "markdown",
   "id": "235255c2",
   "metadata": {},
   "source": [
    "In the Explore stage I: identified relationships between the target variable and features through univariate and bivariate exploration, performed six statistical tests (4 chi^2 and 2 T-test) to determine the significance of the relationship between the target variable and the feature. All tests are supported by visuals and takeaways. "
   ]
  },
  {
   "cell_type": "markdown",
   "id": "7f18cad0",
   "metadata": {},
   "source": [
    "#### _Model AND Evaluate_"
   ]
  },
  {
   "cell_type": "markdown",
   "id": "afcbf1ba",
   "metadata": {},
   "source": [
    "In the model and evaluate stage I: established baseline accuracy, trained and fit multiple models with varying algorithms and hyperparameters, compared evaluation metrics across models, evaluated best performing models using validate set, test final model on out-of-sample testing dataset, and summarized performance"
   ]
  },
  {
   "cell_type": "markdown",
   "id": "38213087",
   "metadata": {},
   "source": [
    "#### _Deliver_"
   ]
  },
  {
   "cell_type": "markdown",
   "id": "356b72a0",
   "metadata": {},
   "source": [
    "In the final stage I: prepared final notebook in Jupyter Notebook. I: wrote out my project description, introduction to include goals, created an executive summary which included all my key findings and recommendations, created headers and dividers to organize the flow of the notebook, asked and answered all questions, added summaries and supplementary markdown to guide the reader through the notebook."
   ]
  },
  {
   "cell_type": "markdown",
   "id": "3b5e41c6",
   "metadata": {},
   "source": [
    "# IV. Supplementary Files "
   ]
  },
  {
   "cell_type": "markdown",
   "id": "15842a7b",
   "metadata": {},
   "source": [
    "<hr style=\"border-top: 1px groove LightCyan ; margin-top: 1px; margin-bottom: 1px\"></hr>"
   ]
  },
  {
   "cell_type": "markdown",
   "id": "16c18b80",
   "metadata": {},
   "source": [
    "- prepare.py - provides code to prepare, split, and encode the data \n",
    "- visuals.py - provides code for all visuals found in the notebook \n",
    "- imports.py - provides imports "
   ]
  },
  {
   "cell_type": "markdown",
   "id": "7f8fb948",
   "metadata": {},
   "source": [
    "# V. Steps to Reproduce"
   ]
  },
  {
   "cell_type": "markdown",
   "id": "ba13d9ea",
   "metadata": {},
   "source": [
    "<hr style=\"border-top: 1px groove LightCyan ; margin-top: 1px; margin-bottom: 1px\"></hr>"
   ]
  },
  {
   "cell_type": "markdown",
   "id": "5eccf450",
   "metadata": {},
   "source": [
    "- Create a Kaggle profile, find and download 'IBM HR' dataset\n",
    "- Clone this repo (including prepare.py, imports.py, and visuals.py)\n",
    "- Run Final Report Jupyter notebook to view the final product"
   ]
  }
 ],
 "metadata": {
  "kernelspec": {
   "display_name": "Python 3 (ipykernel)",
   "language": "python",
   "name": "python3"
  },
  "language_info": {
   "codemirror_mode": {
    "name": "ipython",
    "version": 3
   },
   "file_extension": ".py",
   "mimetype": "text/x-python",
   "name": "python",
   "nbconvert_exporter": "python",
   "pygments_lexer": "ipython3",
   "version": "3.9.7"
  }
 },
 "nbformat": 4,
 "nbformat_minor": 5
}
